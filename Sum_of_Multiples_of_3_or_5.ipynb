{
  "nbformat": 4,
  "nbformat_minor": 0,
  "metadata": {
    "colab": {
      "provenance": []
    },
    "kernelspec": {
      "name": "python3",
      "display_name": "Python 3"
    },
    "language_info": {
      "name": "python"
    }
  },
  "cells": [
    {
      "cell_type": "markdown",
      "source": [
        "Find the sum of all the multiples of 3 or 5 below 1000.\n",
        "A problem from [Project Euler](https://projecteuler.net/problem=1)."
      ],
      "metadata": {
        "id": "M1qTDMBYGb-C"
      }
    },
    {
      "cell_type": "code",
      "source": [
        "import time"
      ],
      "metadata": {
        "id": "6QGmRc2l6ue0"
      },
      "execution_count": 37,
      "outputs": []
    },
    {
      "cell_type": "markdown",
      "source": [
        "We define a function that checks the divisibility of the given number by 3. The same code with minor changes can be used for the divisibility test of 6 and 9. A simple method to do this is to convert the number into string, take the sum of the digits and then use recursion. We also give an alternate method which involves more computations, but as a result we also get more information about the number that might be useful for future modifications."
      ],
      "metadata": {
        "id": "LvFVeNulohIK"
      }
    },
    {
      "cell_type": "code",
      "execution_count": 38,
      "metadata": {
        "id": "2nzOIKdLppv-"
      },
      "outputs": [],
      "source": [
        "def div_by_3(n : int):\n",
        "    if n < 0:\n",
        "        n = -1*n\n",
        "    if n < 10:\n",
        "        if n in (3,6,9,0):\n",
        "            #print(f\" number is {n} and divisible\")\n",
        "            return True\n",
        "        else:\n",
        "            #print(f\" number is {n} and not divisible\")\n",
        "            return False\n",
        "    else:\n",
        "        no_of_digits = len(str(n))\n",
        "        #print(f\"number of digits is {no_of_digits}\")\n",
        "        i = no_of_digits\n",
        "        sum = 0\n",
        "        while i > 0:\n",
        "            #print(f\"value of i is {i}\")\n",
        "            x = 10**(i-1)     # appropriate multiple of 10\n",
        "            #print(f\"value of x is {x}\")\n",
        "            y = n//(x)        # i^th digit of number n\n",
        "           #print(f\"value of y is {y}\")\n",
        "            sum = sum + y #sum of all the digits\n",
        "            n = n - y*x      # removing i th digit of number n\n",
        "           #print(f\"value of n after sub is {n}\")\n",
        "            #print(f\"sum = {sum}\")\n",
        "            i = i - 1\n",
        "        return div_by_3(sum)"
      ]
    },
    {
      "cell_type": "code",
      "source": [
        "div_by_3(583)"
      ],
      "metadata": {
        "colab": {
          "base_uri": "https://localhost:8080/"
        },
        "id": "dSh9Xwtbp6y-",
        "outputId": "25b9d17d-05dc-4787-ee59-1878b7b94d45"
      },
      "execution_count": 39,
      "outputs": [
        {
          "output_type": "execute_result",
          "data": {
            "text/plain": [
              "False"
            ]
          },
          "metadata": {},
          "execution_count": 39
        }
      ]
    },
    {
      "cell_type": "code",
      "source": [
        "def div_by_3_alt(n: int):\n",
        "   if n < 0:\n",
        "        n = -1*n\n",
        "   if n < 10:\n",
        "       if n in (3,6,9,0):\n",
        "           #print(f\" number is {n}\")\n",
        "           return True\n",
        "       else:\n",
        "           #print(f\" number is {n}\")\n",
        "           return False\n",
        "   else:\n",
        "        list_of_digits = list(str(n))\n",
        "        list_of_digits = list(map(int,  list_of_digits))\n",
        "        sum_of_digits = sum(list_of_digits)\n",
        "        return div_by_3_alt(sum_of_digits)\n"
      ],
      "metadata": {
        "id": "tvg5Q2mSp9mv"
      },
      "execution_count": 40,
      "outputs": []
    },
    {
      "cell_type": "code",
      "source": [
        "div_by_3_alt(583)"
      ],
      "metadata": {
        "colab": {
          "base_uri": "https://localhost:8080/"
        },
        "id": "kPeB8rAjm0z-",
        "outputId": "065979e5-7f49-4ec4-cbb2-bb467a83eb97"
      },
      "execution_count": 41,
      "outputs": [
        {
          "output_type": "execute_result",
          "data": {
            "text/plain": [
              "False"
            ]
          },
          "metadata": {},
          "execution_count": 41
        }
      ]
    },
    {
      "cell_type": "markdown",
      "source": [
        "The divisibility test for 5. "
      ],
      "metadata": {
        "id": "beWJJmDuzSVX"
      }
    },
    {
      "cell_type": "code",
      "source": [
        "def div_by_5( n : int ):\n",
        "    list_of_digits = list(str(n))\n",
        "    #print(list_of_digits[-1])\n",
        "    if list_of_digits[-1] in ('0','5'):\n",
        "        return True\n",
        "    else:\n",
        "        return False"
      ],
      "metadata": {
        "id": "Ej_S6K9Tm7NX"
      },
      "execution_count": 42,
      "outputs": []
    },
    {
      "cell_type": "code",
      "source": [
        "div_by_5(30)"
      ],
      "metadata": {
        "colab": {
          "base_uri": "https://localhost:8080/"
        },
        "id": "mwgirQ8xxMKB",
        "outputId": "9cd19726-d4fe-460d-dfdb-20636eddb8d1"
      },
      "execution_count": 43,
      "outputs": [
        {
          "output_type": "execute_result",
          "data": {
            "text/plain": [
              "True"
            ]
          },
          "metadata": {},
          "execution_count": 43
        }
      ]
    },
    {
      "cell_type": "code",
      "source": [
        "def Sum_of_multiples_of_3_or_5_below_1000():\n",
        "    list_of_no_div_by_3 = [3*i for i in range(334)]\n",
        "    list_of_no_div_by_5 = [5*i for i in range(201)]\n",
        "    Intersection_of_lists = list(set(list_of_no_div_by_3) & set(list_of_no_div_by_5) )\n",
        "    final_sum = sum(list_of_no_div_by_3) + sum(list_of_no_div_by_5) - sum(Intersection_of_lists)\n",
        "    return final_sum\n",
        "    "
      ],
      "metadata": {
        "id": "fQd5aIoHxUb1"
      },
      "execution_count": 44,
      "outputs": []
    },
    {
      "cell_type": "code",
      "source": [
        "print(Sum_of_multiples_of_3_or_5_below_1000())"
      ],
      "metadata": {
        "colab": {
          "base_uri": "https://localhost:8080/"
        },
        "id": "b6BZpbgp5Fjq",
        "outputId": "c4012e86-b35f-464d-9c76-b44626d11aa6"
      },
      "execution_count": 45,
      "outputs": [
        {
          "output_type": "stream",
          "name": "stdout",
          "text": [
            "234168\n"
          ]
        }
      ]
    },
    {
      "cell_type": "code",
      "source": [
        "def Sum_of_multiples_of_3_or_5_below_1000_using_div_test():\n",
        "    sum = 0\n",
        "    for i in range(1001):\n",
        "        if div_by_3(i):\n",
        "            sum = sum + i\n",
        "        elif div_by_5(i):\n",
        "            sum = sum + i\n",
        "    return sum"
      ],
      "metadata": {
        "id": "hFRiwRR54ZFH"
      },
      "execution_count": 46,
      "outputs": []
    },
    {
      "cell_type": "code",
      "source": [
        "print(Sum_of_multiples_of_3_or_5_below_1000_using_div_test())"
      ],
      "metadata": {
        "colab": {
          "base_uri": "https://localhost:8080/"
        },
        "id": "2qrkocGe5Qrf",
        "outputId": "5c4234e3-2d54-45e6-ffea-fc039a1995e2"
      },
      "execution_count": 47,
      "outputs": [
        {
          "output_type": "stream",
          "name": "stdout",
          "text": [
            "234168\n"
          ]
        }
      ]
    }
  ]
}